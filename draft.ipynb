{
 "cells": [
  {
   "cell_type": "code",
   "execution_count": 1,
   "metadata": {},
   "outputs": [],
   "source": [
    "\n",
    "import gym\n",
    "import numpy as np\n",
    "from torchsummary import summary\n",
    "from tianshou.utils.net.common import BDQNet"
   ]
  },
  {
   "cell_type": "code",
   "execution_count": 2,
   "metadata": {},
   "outputs": [],
   "source": [
    "class DiscreteToContinuous(gym.ActionWrapper):\n",
    "    def __init__(self, env, action_per_branch):\n",
    "        super().__init__(env)\n",
    "        self.action_per_branch = action_per_branch\n",
    "        low = self.action_space.low\n",
    "        high = self.action_space.high\n",
    "        self.mesh = []\n",
    "        for l, h in zip(low, high):\n",
    "            self.mesh.append(np.linspace(l, h, action_per_branch))\n",
    "        \n",
    "    def action(self, act):\n",
    "        # modify act\n",
    "        act = np.array([self.mesh[i][a] for i, a in enumerate(act)])\n",
    "        return act"
   ]
  },
  {
   "cell_type": "code",
   "execution_count": 9,
   "metadata": {},
   "outputs": [],
   "source": [
    "env = DiscreteToContinuous(gym.make('BipedalWalker-v3'), action_per_branch=2)"
   ]
  },
  {
   "cell_type": "code",
   "execution_count": 10,
   "metadata": {},
   "outputs": [],
   "source": [
    "state_shape = env.observation_space.shape[0]\n",
    "action_shape = env.action_space.shape[0]\n",
    "action_per_branch = env.action_per_branch\n",
    "common_hidden_sizes = [512, 256]\n",
    "value_hidden_sizes = [128]\n",
    "action_hidden_sizes = [128]"
   ]
  },
  {
   "cell_type": "code",
   "execution_count": 11,
   "metadata": {},
   "outputs": [],
   "source": [
    "model = BDQNet(state_shape,\n",
    "               action_shape,\n",
    "               action_per_branch,\n",
    "               common_hidden_sizes,\n",
    "               value_hidden_sizes,\n",
    "               action_hidden_sizes)"
   ]
  },
  {
   "cell_type": "code",
   "execution_count": 18,
   "metadata": {},
   "outputs": [
    {
     "data": {
      "text/plain": [
       "torch.Size([1, 4, 2])"
      ]
     },
     "execution_count": 18,
     "metadata": {},
     "output_type": "execute_result"
    }
   ],
   "source": [
    "import torch\n",
    "\n",
    "x = torch.randn(state_shape).unsqueeze(0)\n",
    "y = model(x)\n",
    "y[0].shape"
   ]
  },
  {
   "cell_type": "code",
   "execution_count": 23,
   "metadata": {},
   "outputs": [
    {
     "data": {
      "text/plain": [
       "tensor([[0, 0, 1, 0]])"
      ]
     },
     "execution_count": 23,
     "metadata": {},
     "output_type": "execute_result"
    }
   ],
   "source": [
    "y[0].max(dim=-1)[1]"
   ]
  },
  {
   "cell_type": "code",
   "execution_count": 25,
   "metadata": {},
   "outputs": [
    {
     "data": {
      "text/plain": [
       "torch.Size([1, 4, 2])"
      ]
     },
     "execution_count": 25,
     "metadata": {},
     "output_type": "execute_result"
    }
   ],
   "source": [
    "y[0].shape"
   ]
  },
  {
   "cell_type": "code",
   "execution_count": 26,
   "metadata": {},
   "outputs": [
    {
     "data": {
      "text/plain": [
       "1"
      ]
     },
     "execution_count": 26,
     "metadata": {},
     "output_type": "execute_result"
    }
   ],
   "source": [
    "len(y[0])"
   ]
  },
  {
   "cell_type": "code",
   "execution_count": 31,
   "metadata": {},
   "outputs": [
    {
     "data": {
      "text/plain": [
       "array([[[0]],\n",
       "\n",
       "       [[1]],\n",
       "\n",
       "       [[1]],\n",
       "\n",
       "       [[1]],\n",
       "\n",
       "       [[0]],\n",
       "\n",
       "       [[0]],\n",
       "\n",
       "       [[1]],\n",
       "\n",
       "       [[1]],\n",
       "\n",
       "       [[1]],\n",
       "\n",
       "       [[1]]])"
      ]
     },
     "execution_count": 31,
     "metadata": {},
     "output_type": "execute_result"
    }
   ],
   "source": [
    "a = np.random.randint(0, 2, 10)\n",
    "a.reshape(-1, 1, 1)"
   ]
  }
 ],
 "metadata": {
  "interpreter": {
   "hash": "f3d922253121c31a7b24bed1c151b936757524923ac49fbc20420da76bf88248"
  },
  "kernelspec": {
   "display_name": "Python 3.9.10 ('tianshou')",
   "language": "python",
   "name": "python3"
  },
  "language_info": {
   "codemirror_mode": {
    "name": "ipython",
    "version": 3
   },
   "file_extension": ".py",
   "mimetype": "text/x-python",
   "name": "python",
   "nbconvert_exporter": "python",
   "pygments_lexer": "ipython3",
   "version": "3.9.10"
  },
  "orig_nbformat": 4
 },
 "nbformat": 4,
 "nbformat_minor": 2
}
